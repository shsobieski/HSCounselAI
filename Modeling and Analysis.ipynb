{
 "cells": [
  {
   "cell_type": "code",
   "execution_count": 1,
   "metadata": {},
   "outputs": [],
   "source": [
    "import pandas as pd\n",
    "import matplotlib.pyplot as plt\n",
    "import numpy as np\n",
    "from sklearn.preprocessing import StandardScaler\n",
    "from sklearn.model_selection import train_test_split\n",
    "from sklearn.linear_model import LogisticRegression\n",
    "from sklearn.metrics import (confusion_matrix, \n",
    "                             classification_report, \n",
    "                             precision_score, recall_score, \n",
    "                             accuracy_score, f1_score)\n",
    "from sklearn.model_selection import GridSearchCV\n",
    "from sklearn.tree import DecisionTreeClassifier\n",
    "from sklearn.ensemble import BaggingClassifier\n",
    "from sklearn.preprocessing import PolynomialFeatures\n",
    "import seaborn as sns\n",
    "from sklearn.ensemble import AdaBoostClassifier\n",
    "from sklearn.ensemble import RandomForestClassifier\n",
    "import statistics\n",
    "\n",
    "%run -i \"functions/split_scale.py\"\n",
    "%run -i \"functions/report.py\""
   ]
  },
  {
   "cell_type": "code",
   "execution_count": 2,
   "metadata": {},
   "outputs": [],
   "source": [
    "data = pd.read_csv('data/student_data.csv')\n",
    "data.drop('Unnamed: 0', axis= 1, inplace= True)\n",
    "\n",
    "X = data.drop('X4EVERDROP', axis= 1)\n",
    "target = data['X4EVERDROP']\n",
    "bg_data = data[['X1PAREDU', 'X1PARPATTERN', 'X1HHNUMBER', \n",
    "                'X1FAMINCOME', 'X1POVERTY', 'X1POVERTY130', \n",
    "                'X1POVERTY185', 'Parent?', 'X1SEX', \n",
    "                'X1HISPANIC', 'X1WHITE', 'X1BLACK', \n",
    "                'X1LOCALE', 'X1REGION']]\n",
    "bg_data = pd.get_dummies(bg_data)\n",
    "plan_data = data[['X1STUEDEXPCT', 'S1SUREHSGRAD', \n",
    "                  'S1ABILITYBA', 'S1SCHWASTE', \n",
    "                  'S1GOODGRADES', 'S1PAYOFF', \n",
    "                  'S1GETINTOCLG', 'S1AFFORD', \n",
    "                  'S1WORKING', 'S1PLAN', 'S1BAAGE30', \n",
    "                  'S1FYNOTSURE']]\n",
    "plan_data = pd.get_dummies(plan_data)\n",
    "emo_data = data[['X1PAREDEXPCT', 'S1NOTALKCLG', 'S1NOTALKJOB', \n",
    "                 'S1NOTALKPRB', 'FRNDGOODSTUD', 'S1SAFE', \n",
    "                 'S1PROUD', 'S1TALKPROB']]\n",
    "emo_data = pd.get_dummies(emo_data)\n",
    "aca_data = data[['X3TGPA9TH', 'CLSPREP', 'HRSHOMEWRK', \n",
    "                 'S1HRACTIVITY', 'S1HRWORK', 'HRSSOCIAL', \n",
    "                 'HRSTECH']]\n",
    "aca_data = pd.get_dummies(aca_data)\n",
    "serv_data = data[['MTHPROG', 'HELP', 'C1NOWAY', 'C1GEDPREP', \n",
    "                  'MS2HS', 'C1DROPOUT']]\n",
    "serv_data = pd.get_dummies(serv_data)\n",
    "couns_data = data[['C1CASELOAD', 'C1GOAL1', 'C1CLGPREP', \n",
    "                   'C1WORKFORCE']]\n",
    "couns_data = pd.get_dummies(couns_data)\n",
    "cc_data = data[['X3ATTENDCTE', 'JOBPROG', 'COUNSMEET', \n",
    "                'CPORG', 'CLGPROG']]\n",
    "cc_data = pd.get_dummies(cc_data)\n",
    "X = pd.get_dummies(X)"
   ]
  },
  {
   "cell_type": "markdown",
   "metadata": {},
   "source": [
    "### Split and Scale the Data"
   ]
  },
  {
   "cell_type": "code",
   "execution_count": 3,
   "metadata": {},
   "outputs": [],
   "source": [
    "X_train, X_test, y_train, y_test = split_scale(X)"
   ]
  },
  {
   "cell_type": "code",
   "execution_count": 4,
   "metadata": {},
   "outputs": [
    {
     "data": {
      "image/png": "[encoded data removed]",
      "text/plain": [
       "<Figure size 432x288 with 1 Axes>"
      ]
     },
     "metadata": {
      "needs_background": "light"
     },
     "output_type": "display_data"
    }
   ],
   "source": [
    "sns.countplot(x= 'X4EVERDROP', data= data)\n",
    "plt.title('Count of Dropouts in the Complete Dataset')\n",
    "plt.savefig('figures/dropcount.png');"
   ]
  },
  {
   "cell_type": "code",
   "execution_count": 5,
   "metadata": {},
   "outputs": [
    {
     "data": {
      "text/plain": [
       "0    9342\n",
       "1    1276\n",
       "Name: X4EVERDROP, dtype: int64"
      ]
     },
     "execution_count": 5,
     "metadata": {},
     "output_type": "execute_result"
    }
   ],
   "source": [
    "data['X4EVERDROP'].value_counts()"
   ]
  },
  {
   "cell_type": "markdown",
   "metadata": {},
   "source": [
    "# Model Selection\n",
    "#### Logistic Regression"
   ]
  },
  {
   "cell_type": "code",
   "execution_count": 6,
   "metadata": {
    "scrolled": false
   },
   "outputs": [
    {
     "name": "stdout",
     "output_type": "stream",
     "text": [
      "Confusion Matrix\n",
      "\n",
      "[[1481  408]\n",
      " [  64  171]]\n",
      "\n",
      "Classification Report\n",
      "\n",
      "              precision    recall  f1-score   support\n",
      "\n",
      "           0       0.96      0.78      0.86      1889\n",
      "           1       0.30      0.73      0.42       235\n",
      "\n",
      "    accuracy                           0.78      2124\n",
      "   macro avg       0.63      0.76      0.64      2124\n",
      "weighted avg       0.89      0.78      0.81      2124\n",
      "\n"
     ]
    }
   ],
   "source": [
    "logreg = LogisticRegression(solver= 'liblinear', \n",
    "                            class_weight= 'balanced')\n",
    "log_pred = report(logreg)"
   ]
  },
  {
   "cell_type": "code",
   "execution_count": 7,
   "metadata": {
    "scrolled": true
   },
   "outputs": [
    {
     "name": "stdout",
     "output_type": "stream",
     "text": [
      "Confusion Matrix\n",
      "\n",
      "[[1498  391]\n",
      " [  71  164]]\n",
      "\n",
      "Classification Report\n",
      "\n",
      "              precision    recall  f1-score   support\n",
      "\n",
      "           0       0.95      0.79      0.87      1889\n",
      "           1       0.30      0.70      0.42       235\n",
      "\n",
      "    accuracy                           0.78      2124\n",
      "   macro avg       0.63      0.75      0.64      2124\n",
      "weighted avg       0.88      0.78      0.82      2124\n",
      "\n"
     ]
    }
   ],
   "source": [
    "log_bag = BaggingClassifier(logreg, n_estimators = 20, \n",
    "                            max_samples = .8)\n",
    "log_bag_pred = report(log_bag)"
   ]
  },
  {
   "cell_type": "markdown",
   "metadata": {},
   "source": [
    "#### K Nearest Neighbors"
   ]
  },
  {
   "cell_type": "code",
   "execution_count": 8,
   "metadata": {},
   "outputs": [
    {
     "name": "stdout",
     "output_type": "stream",
     "text": [
      "Confusion Matrix\n",
      "\n",
      "[[1751  138]\n",
      " [ 173   62]]\n",
      "\n",
      "Classification Report\n",
      "\n",
      "              precision    recall  f1-score   support\n",
      "\n",
      "           0       0.91      0.93      0.92      1889\n",
      "           1       0.31      0.26      0.29       235\n",
      "\n",
      "    accuracy                           0.85      2124\n",
      "   macro avg       0.61      0.60      0.60      2124\n",
      "weighted avg       0.84      0.85      0.85      2124\n",
      "\n"
     ]
    }
   ],
   "source": [
    "from sklearn.neighbors import KNeighborsClassifier\n",
    "knn = KNeighborsClassifier(weights= 'distance', \n",
    "                           n_neighbors= 2)\n",
    "knn_pred = report(knn)"
   ]
  },
  {
   "cell_type": "markdown",
   "metadata": {},
   "source": [
    "#### Naive Bayes"
   ]
  },
  {
   "cell_type": "code",
   "execution_count": 9,
   "metadata": {
    "scrolled": true
   },
   "outputs": [
    {
     "name": "stdout",
     "output_type": "stream",
     "text": [
      "Confusion Matrix\n",
      "\n",
      "[[1545  344]\n",
      " [  91  144]]\n",
      "\n",
      "Classification Report\n",
      "\n",
      "              precision    recall  f1-score   support\n",
      "\n",
      "           0       0.94      0.82      0.88      1889\n",
      "           1       0.30      0.61      0.40       235\n",
      "\n",
      "    accuracy                           0.80      2124\n",
      "   macro avg       0.62      0.72      0.64      2124\n",
      "weighted avg       0.87      0.80      0.82      2124\n",
      "\n"
     ]
    }
   ],
   "source": [
    "from sklearn.naive_bayes import BernoulliNB\n",
    "nb = BernoulliNB()\n",
    "nb_pred = report(nb)"
   ]
  },
  {
   "cell_type": "markdown",
   "metadata": {},
   "source": [
    "#### Decision Tree"
   ]
  },
  {
   "cell_type": "code",
   "execution_count": 10,
   "metadata": {
    "scrolled": true
   },
   "outputs": [
    {
     "name": "stdout",
     "output_type": "stream",
     "text": [
      "Confusion Matrix\n",
      "\n",
      "[[1699  190]\n",
      " [ 153   82]]\n",
      "\n",
      "Classification Report\n",
      "\n",
      "              precision    recall  f1-score   support\n",
      "\n",
      "           0       0.92      0.90      0.91      1889\n",
      "           1       0.30      0.35      0.32       235\n",
      "\n",
      "    accuracy                           0.84      2124\n",
      "   macro avg       0.61      0.62      0.62      2124\n",
      "weighted avg       0.85      0.84      0.84      2124\n",
      "\n"
     ]
    }
   ],
   "source": [
    "tree = DecisionTreeClassifier()\n",
    "tree_pred = report(tree)"
   ]
  },
  {
   "cell_type": "code",
   "execution_count": 11,
   "metadata": {},
   "outputs": [
    {
     "name": "stdout",
     "output_type": "stream",
     "text": [
      "Confusion Matrix\n",
      "\n",
      "[[1473  416]\n",
      " [  93  142]]\n",
      "\n",
      "Classification Report\n",
      "\n",
      "              precision    recall  f1-score   support\n",
      "\n",
      "           0       0.94      0.78      0.85      1889\n",
      "           1       0.25      0.60      0.36       235\n",
      "\n",
      "    accuracy                           0.76      2124\n",
      "   macro avg       0.60      0.69      0.61      2124\n",
      "weighted avg       0.86      0.76      0.80      2124\n",
      "\n"
     ]
    }
   ],
   "source": [
    "params = {'criterion':['gini', 'entropy'], \n",
    "          'splitter':['best', 'random'], \n",
    "          'max_depth':[10, 50, 100], \n",
    "          'min_samples_split':[2, 10, 20], \n",
    "          'class_weight':[None, 'balanced']}\n",
    "gs_tree= GridSearchCV(DecisionTreeClassifier(), params, cv=3, \n",
    "                      scoring= 'recall')\n",
    "gs_tree_pred = report(gs_tree)"
   ]
  },
  {
   "cell_type": "markdown",
   "metadata": {},
   "source": [
    "#### Bagging Classifier"
   ]
  },
  {
   "cell_type": "code",
   "execution_count": 12,
   "metadata": {},
   "outputs": [
    {
     "name": "stdout",
     "output_type": "stream",
     "text": [
      "Confusion Matrix\n",
      "\n",
      "[[1555  334]\n",
      " [  83  152]]\n",
      "\n",
      "Classification Report\n",
      "\n",
      "              precision    recall  f1-score   support\n",
      "\n",
      "           0       0.95      0.82      0.88      1889\n",
      "           1       0.31      0.65      0.42       235\n",
      "\n",
      "    accuracy                           0.80      2124\n",
      "   macro avg       0.63      0.73      0.65      2124\n",
      "weighted avg       0.88      0.80      0.83      2124\n",
      "\n"
     ]
    }
   ],
   "source": [
    "tree = DecisionTreeClassifier(class_weight= 'balanced', \n",
    "                              max_depth= 2)\n",
    "tree_bag = (BaggingClassifier(tree))\n",
    "tree_bag_pred = report(tree_bag)"
   ]
  },
  {
   "cell_type": "code",
   "execution_count": 13,
   "metadata": {},
   "outputs": [
    {
     "name": "stdout",
     "output_type": "stream",
     "text": [
      "Confusion Matrix\n",
      "\n",
      "[[1576  313]\n",
      " [  83  152]]\n",
      "\n",
      "Classification Report\n",
      "\n",
      "              precision    recall  f1-score   support\n",
      "\n",
      "           0       0.95      0.83      0.89      1889\n",
      "           1       0.33      0.65      0.43       235\n",
      "\n",
      "    accuracy                           0.81      2124\n",
      "   macro avg       0.64      0.74      0.66      2124\n",
      "weighted avg       0.88      0.81      0.84      2124\n",
      "\n"
     ]
    }
   ],
   "source": [
    "params = {'n_estimators':[10, 100], \n",
    "          'max_features':[1.0, .9]}\n",
    "gs_tree_bag= GridSearchCV(tree_bag, params, cv=3, \n",
    "                      scoring= 'recall')\n",
    "gs_tree_bag_pred = report(gs_tree_bag)"
   ]
  },
  {
   "cell_type": "markdown",
   "metadata": {},
   "source": [
    "#### AdaBoost"
   ]
  },
  {
   "cell_type": "code",
   "execution_count": 14,
   "metadata": {},
   "outputs": [
    {
     "name": "stdout",
     "output_type": "stream",
     "text": [
      "Confusion Matrix\n",
      "\n",
      "[[1850   39]\n",
      " [ 163   72]]\n",
      "\n",
      "Classification Report\n",
      "\n",
      "              precision    recall  f1-score   support\n",
      "\n",
      "           0       0.92      0.98      0.95      1889\n",
      "           1       0.65      0.31      0.42       235\n",
      "\n",
      "    accuracy                           0.90      2124\n",
      "   macro avg       0.78      0.64      0.68      2124\n",
      "weighted avg       0.89      0.90      0.89      2124\n",
      "\n"
     ]
    }
   ],
   "source": [
    "ada = AdaBoostClassifier()\n",
    "ada_tree_pred = report(ada)"
   ]
  },
  {
   "cell_type": "code",
   "execution_count": 15,
   "metadata": {
    "scrolled": true
   },
   "outputs": [
    {
     "name": "stdout",
     "output_type": "stream",
     "text": [
      "Confusion Matrix\n",
      "\n",
      "[[1474  415]\n",
      " [  64  171]]\n",
      "\n",
      "Classification Report\n",
      "\n",
      "              precision    recall  f1-score   support\n",
      "\n",
      "           0       0.96      0.78      0.86      1889\n",
      "           1       0.29      0.73      0.42       235\n",
      "\n",
      "    accuracy                           0.77      2124\n",
      "   macro avg       0.63      0.75      0.64      2124\n",
      "weighted avg       0.88      0.77      0.81      2124\n",
      "\n"
     ]
    }
   ],
   "source": [
    "ada = AdaBoostClassifier(logreg)\n",
    "ada_log_pred = report(ada)"
   ]
  },
  {
   "cell_type": "markdown",
   "metadata": {},
   "source": [
    "#### Random Forest"
   ]
  },
  {
   "cell_type": "code",
   "execution_count": 16,
   "metadata": {
    "scrolled": true
   },
   "outputs": [
    {
     "name": "stdout",
     "output_type": "stream",
     "text": [
      "Confusion Matrix\n",
      "\n",
      "[[1883    6]\n",
      " [ 216   19]]\n",
      "\n",
      "Classification Report\n",
      "\n",
      "              precision    recall  f1-score   support\n",
      "\n",
      "           0       0.90      1.00      0.94      1889\n",
      "           1       0.76      0.08      0.15       235\n",
      "\n",
      "    accuracy                           0.90      2124\n",
      "   macro avg       0.83      0.54      0.55      2124\n",
      "weighted avg       0.88      0.90      0.86      2124\n",
      "\n"
     ]
    }
   ],
   "source": [
    "rand_forest = RandomForestClassifier(class_weight='balanced', \n",
    "                                     n_estimators= 100)\n",
    "rand_forest_pred = report(rand_forest)"
   ]
  },
  {
   "cell_type": "markdown",
   "metadata": {},
   "source": [
    "#### Custom Ensemble\n",
    "I'll attempt to improve recall of the 'at-risk' class of students by taking the consensus of the three highest performing models by their ability to recall 'at-risk' students."
   ]
  },
  {
   "cell_type": "code",
   "execution_count": 17,
   "metadata": {},
   "outputs": [
    {
     "name": "stdout",
     "output_type": "stream",
     "text": [
      "[[1482  407]\n",
      " [  65  170]]\n",
      "              precision    recall  f1-score   support\n",
      "\n",
      "           0       0.96      0.78      0.86      1889\n",
      "           1       0.29      0.72      0.42       235\n",
      "\n",
      "    accuracy                           0.78      2124\n",
      "   macro avg       0.63      0.75      0.64      2124\n",
      "weighted avg       0.88      0.78      0.81      2124\n",
      "\n"
     ]
    }
   ],
   "source": [
    "preds = []\n",
    "for i in range(0, len(log_pred)):\n",
    "    preds.append(statistics.mode([log_pred[i], \n",
    "                                  ada_log_pred[i], \n",
    "                                  nb_pred[i]]))\n",
    "print(confusion_matrix(y_test, preds))\n",
    "print(classification_report(y_test, preds))"
   ]
  },
  {
   "cell_type": "markdown",
   "metadata": {},
   "source": [
    "# Analysis\n",
    "Next, I will seek to gather information about what catergories of data are most predictive of dropout rate. Because the logistic regression was able to recall the highest proportion of drop-out risks I will use this model as a point of comparison, to examine which category of information is most predictive of a HS dropout."
   ]
  },
  {
   "cell_type": "markdown",
   "metadata": {},
   "source": [
    "#### Background Data"
   ]
  },
  {
   "cell_type": "code",
   "execution_count": 18,
   "metadata": {},
   "outputs": [
    {
     "name": "stdout",
     "output_type": "stream",
     "text": [
      "Confusion Matrix\n",
      "\n",
      "[[1321  568]\n",
      " [  78  157]]\n",
      "\n",
      "Classification Report\n",
      "\n",
      "              precision    recall  f1-score   support\n",
      "\n",
      "           0       0.94      0.70      0.80      1889\n",
      "           1       0.22      0.67      0.33       235\n",
      "\n",
      "    accuracy                           0.70      2124\n",
      "   macro avg       0.58      0.68      0.57      2124\n",
      "weighted avg       0.86      0.70      0.75      2124\n",
      "\n"
     ]
    }
   ],
   "source": [
    "X_train, X_test, y_train, y_test = split_scale(bg_data)\n",
    "bg_pred = report(logreg)"
   ]
  },
  {
   "cell_type": "markdown",
   "metadata": {},
   "source": [
    "#### Student Plans and Attitudes"
   ]
  },
  {
   "cell_type": "code",
   "execution_count": 19,
   "metadata": {},
   "outputs": [
    {
     "name": "stdout",
     "output_type": "stream",
     "text": [
      "Confusion Matrix\n",
      "\n",
      "[[1405  484]\n",
      " [  85  150]]\n",
      "\n",
      "Classification Report\n",
      "\n",
      "              precision    recall  f1-score   support\n",
      "\n",
      "           0       0.94      0.74      0.83      1889\n",
      "           1       0.24      0.64      0.35       235\n",
      "\n",
      "    accuracy                           0.73      2124\n",
      "   macro avg       0.59      0.69      0.59      2124\n",
      "weighted avg       0.86      0.73      0.78      2124\n",
      "\n"
     ]
    }
   ],
   "source": [
    "X_train, X_test, y_train, y_test = split_scale(plan_data)\n",
    "plan_pred = report(logreg)"
   ]
  },
  {
   "cell_type": "markdown",
   "metadata": {},
   "source": [
    "#### Family/ Peer Support"
   ]
  },
  {
   "cell_type": "code",
   "execution_count": 20,
   "metadata": {},
   "outputs": [
    {
     "name": "stdout",
     "output_type": "stream",
     "text": [
      "Confusion Matrix\n",
      "\n",
      "[[1413  476]\n",
      " [  92  143]]\n",
      "\n",
      "Classification Report\n",
      "\n",
      "              precision    recall  f1-score   support\n",
      "\n",
      "           0       0.94      0.75      0.83      1889\n",
      "           1       0.23      0.61      0.33       235\n",
      "\n",
      "    accuracy                           0.73      2124\n",
      "   macro avg       0.58      0.68      0.58      2124\n",
      "weighted avg       0.86      0.73      0.78      2124\n",
      "\n"
     ]
    }
   ],
   "source": [
    "X_train, X_test, y_train, y_test = split_scale(emo_data)\n",
    "emo_pred = report(logreg)"
   ]
  },
  {
   "cell_type": "markdown",
   "metadata": {},
   "source": [
    "#### Academic Performance and Time Management"
   ]
  },
  {
   "cell_type": "code",
   "execution_count": 21,
   "metadata": {},
   "outputs": [
    {
     "name": "stdout",
     "output_type": "stream",
     "text": [
      "Confusion Matrix\n",
      "\n",
      "[[1385  504]\n",
      " [  63  172]]\n",
      "\n",
      "Classification Report\n",
      "\n",
      "              precision    recall  f1-score   support\n",
      "\n",
      "           0       0.96      0.73      0.83      1889\n",
      "           1       0.25      0.73      0.38       235\n",
      "\n",
      "    accuracy                           0.73      2124\n",
      "   macro avg       0.61      0.73      0.60      2124\n",
      "weighted avg       0.88      0.73      0.78      2124\n",
      "\n"
     ]
    }
   ],
   "source": [
    "X_train, X_test, y_train, y_test = split_scale(aca_data)\n",
    "aca_pred = report(logreg)"
   ]
  },
  {
   "cell_type": "markdown",
   "metadata": {},
   "source": [
    "#### Academic Services"
   ]
  },
  {
   "cell_type": "code",
   "execution_count": 22,
   "metadata": {},
   "outputs": [
    {
     "name": "stdout",
     "output_type": "stream",
     "text": [
      "Confusion Matrix\n",
      "\n",
      "[[1141  748]\n",
      " [ 139   96]]\n",
      "\n",
      "Classification Report\n",
      "\n",
      "              precision    recall  f1-score   support\n",
      "\n",
      "           0       0.89      0.60      0.72      1889\n",
      "           1       0.11      0.41      0.18       235\n",
      "\n",
      "    accuracy                           0.58      2124\n",
      "   macro avg       0.50      0.51      0.45      2124\n",
      "weighted avg       0.81      0.58      0.66      2124\n",
      "\n"
     ]
    }
   ],
   "source": [
    "X_train, X_test, y_train, y_test = split_scale(serv_data)\n",
    "serv_pred = report(logreg)"
   ]
  },
  {
   "cell_type": "markdown",
   "metadata": {},
   "source": [
    "#### Counselor Qualities"
   ]
  },
  {
   "cell_type": "code",
   "execution_count": 23,
   "metadata": {},
   "outputs": [
    {
     "name": "stdout",
     "output_type": "stream",
     "text": [
      "Confusion Matrix\n",
      "\n",
      "[[1097  792]\n",
      " [ 114  121]]\n",
      "\n",
      "Classification Report\n",
      "\n",
      "              precision    recall  f1-score   support\n",
      "\n",
      "           0       0.91      0.58      0.71      1889\n",
      "           1       0.13      0.51      0.21       235\n",
      "\n",
      "    accuracy                           0.57      2124\n",
      "   macro avg       0.52      0.55      0.46      2124\n",
      "weighted avg       0.82      0.57      0.65      2124\n",
      "\n"
     ]
    }
   ],
   "source": [
    "X_train, X_test, y_train, y_test = split_scale(couns_data)\n",
    "couns_pred = report(logreg)"
   ]
  },
  {
   "cell_type": "markdown",
   "metadata": {},
   "source": [
    "#### College and Career Services"
   ]
  },
  {
   "cell_type": "code",
   "execution_count": 24,
   "metadata": {},
   "outputs": [
    {
     "name": "stdout",
     "output_type": "stream",
     "text": [
      "Confusion Matrix\n",
      "\n",
      "[[1117  772]\n",
      " [ 114  121]]\n",
      "\n",
      "Classification Report\n",
      "\n",
      "              precision    recall  f1-score   support\n",
      "\n",
      "           0       0.91      0.59      0.72      1889\n",
      "           1       0.14      0.51      0.21       235\n",
      "\n",
      "    accuracy                           0.58      2124\n",
      "   macro avg       0.52      0.55      0.47      2124\n",
      "weighted avg       0.82      0.58      0.66      2124\n",
      "\n"
     ]
    }
   ],
   "source": [
    "X_train, X_test, y_train, y_test = split_scale(cc_data)\n",
    "cc_pred = report(logreg)"
   ]
  },
  {
   "cell_type": "code",
   "execution_count": 25,
   "metadata": {},
   "outputs": [
    {
     "data": {
      "image/png": "[encoded data removed]",
      "text/plain": [
       "<Figure size 432x288 with 1 Axes>"
      ]
     },
     "metadata": {
      "needs_background": "light"
     },
     "output_type": "display_data"
    }
   ],
   "source": [
    "model_recall = pd.DataFrame({'Category': ['Background', 'Plans', \n",
    "                                          'Support', 'Academics', \n",
    "                                          'Services', 'Counselor', \n",
    "                                          'Readiness Programs'], \n",
    "                             'Recall Score': [.67, .64, .61, .73, \n",
    "                                              .41, .51, .51]})\n",
    "sns.barplot(y= 'Category', x= 'Recall Score', data= model_recall)\n",
    "plt.savefig('figures/recall.png');"
   ]
  },
  {
   "cell_type": "markdown",
   "metadata": {},
   "source": [
    "## Conclusion\n",
    "Counselors can use academic information to guide their decisions, with confidence. For other categories, metrics that track academic success may be more predictive of desired outcomes. "
   ]
  },
  {
   "cell_type": "code",
   "execution_count": null,
   "metadata": {},
   "outputs": [],
   "source": []
  }
 ],
 "metadata": {
  "kernelspec": {
   "display_name": "learn-env",
   "language": "python",
   "name": "learn-env"
  },
  "language_info": {
   "codemirror_mode": {
    "name": "ipython",
    "version": 3
   },
   "file_extension": ".py",
   "mimetype": "text/x-python",
   "name": "python",
   "nbconvert_exporter": "python",
   "pygments_lexer": "ipython3",
   "version": "3.7.4"
  }
 },
 "nbformat": 4,
 "nbformat_minor": 2
}
