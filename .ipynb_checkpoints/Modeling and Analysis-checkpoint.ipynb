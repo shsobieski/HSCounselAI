{
 "cells": [
  {
   "cell_type": "code",
   "execution_count": 3,
   "metadata": {},
   "outputs": [],
   "source": [
    "import pandas as pd\n",
    "import matplotlib.pyplot as plt\n",
    "import numpy as np\n",
    "from sklearn.preprocessing import StandardScaler\n",
    "from sklearn.model_selection import train_test_split\n",
    "from sklearn.linear_model import LogisticRegression\n",
    "from sklearn.metrics import (confusion_matrix, \n",
    "                             classification_report, \n",
    "                             precision_score, recall_score, \n",
    "                             accuracy_score, f1_score)\n",
    "from sklearn.model_selection import GridSearchCV\n",
    "from sklearn.tree import DecisionTreeClassifier\n",
    "from sklearn.ensemble import BaggingClassifier\n",
    "from sklearn.preprocessing import PolynomialFeatures\n",
    "import seaborn as sns\n",
    "from sklearn.ensemble import AdaBoostClassifier\n",
    "from sklearn.ensemble import RandomForestClassifier\n",
    "import statistics"
   ]
  },
  {
   "cell_type": "code",
   "execution_count": 4,
   "metadata": {},
   "outputs": [],
   "source": [
    "data = pd.read_csv('student_data.csv')\n",
    "data.drop('Unnamed: 0', axis= 1, inplace= True)"
   ]
  },
  {
   "cell_type": "markdown",
   "metadata": {},
   "source": [
    "For this analysis, I'll be using 5 different targets. For each target, I will: \n",
    "1) build a model \n",
    "2) use that model to determine the factors that make a student most prone to be part of a specific class\n",
    "3) use that model to determine the factors that make a student's outcomes most likely to improve. "
   ]
  },
  {
   "cell_type": "markdown",
   "metadata": {},
   "source": [
    "# Dropout Rate"
   ]
  },
  {
   "cell_type": "code",
   "execution_count": 5,
   "metadata": {},
   "outputs": [],
   "source": [
    "targets = ['X4EVERDROP', 'X4HSCOMPSTAT', 'X4REFSELECT', \n",
    "           'X4ATPRLVLA', 'X4PSLFSTFB16']\n",
    "X = data.drop(targets, axis= 1)\n",
    "drop_target = data['X4EVERDROP']\n",
    "X = pd.get_dummies(X)"
   ]
  },
  {
   "cell_type": "markdown",
   "metadata": {},
   "source": [
    "### Split and Scale the Data"
   ]
  },
  {
   "cell_type": "code",
   "execution_count": 6,
   "metadata": {},
   "outputs": [],
   "source": [
    "(X_train, X_test, \n",
    " y_train, y_test) = train_test_split(X, drop_target, \n",
    "                                     test_size= .2, \n",
    "                                     random_state = 24)\n",
    "scaler = StandardScaler()\n",
    "X = pd.DataFrame(scaler.fit_transform(X))\n",
    "X_train = pd.DataFrame(scaler.fit_transform(X_train))\n",
    "X_test = pd.DataFrame(scaler.fit_transform(X_test))"
   ]
  },
  {
   "cell_type": "code",
   "execution_count": 7,
   "metadata": {},
   "outputs": [],
   "source": [
    "def report(model):\n",
    "    model.fit(X_train, y_train)\n",
    "    y_pred = model.predict(X_test)\n",
    "    print('Confusion Matrix\\n')\n",
    "    print(confusion_matrix(y_test, y_pred))\n",
    "    print('\\nClassification Report\\n')\n",
    "    print(classification_report(y_test, y_pred))  \n",
    "    return y_pred"
   ]
  },
  {
   "cell_type": "code",
   "execution_count": 8,
   "metadata": {},
   "outputs": [
    {
     "data": {
      "image/png": "[encoded data removed]",
      "text/plain": [
       "<Figure size 432x288 with 1 Axes>"
      ]
     },
     "metadata": {
      "needs_background": "light"
     },
     "output_type": "display_data"
    }
   ],
   "source": [
    "sns.countplot(x= 'X4EVERDROP', data= data);"
   ]
  },
  {
   "cell_type": "markdown",
   "metadata": {},
   "source": [
    "### Logistic Regression"
   ]
  },
  {
   "cell_type": "code",
   "execution_count": 9,
   "metadata": {
    "scrolled": false
   },
   "outputs": [
    {
     "name": "stdout",
     "output_type": "stream",
     "text": [
      "Confusion Matrix\n",
      "\n",
      "[[1423  431]\n",
      " [  77  176]]\n",
      "\n",
      "Classification Report\n",
      "\n",
      "              precision    recall  f1-score   support\n",
      "\n",
      "           0       0.95      0.77      0.85      1854\n",
      "           1       0.29      0.70      0.41       253\n",
      "\n",
      "    accuracy                           0.76      2107\n",
      "   macro avg       0.62      0.73      0.63      2107\n",
      "weighted avg       0.87      0.76      0.80      2107\n",
      "\n"
     ]
    }
   ],
   "source": [
    "logreg = LogisticRegression(solver= 'liblinear', \n",
    "                            class_weight= 'balanced')\n",
    "log_pred = report(logreg)"
   ]
  },
  {
   "cell_type": "code",
   "execution_count": 10,
   "metadata": {
    "scrolled": true
   },
   "outputs": [
    {
     "name": "stdout",
     "output_type": "stream",
     "text": [
      "Confusion Matrix\n",
      "\n",
      "[[1443  411]\n",
      " [  84  169]]\n",
      "\n",
      "Classification Report\n",
      "\n",
      "              precision    recall  f1-score   support\n",
      "\n",
      "           0       0.94      0.78      0.85      1854\n",
      "           1       0.29      0.67      0.41       253\n",
      "\n",
      "    accuracy                           0.77      2107\n",
      "   macro avg       0.62      0.72      0.63      2107\n",
      "weighted avg       0.87      0.77      0.80      2107\n",
      "\n"
     ]
    }
   ],
   "source": [
    "log_bag = BaggingClassifier(logreg, n_estimators = 20, \n",
    "                            max_samples = .8)\n",
    "log_bag_pred = report(log_bag)"
   ]
  },
  {
   "cell_type": "markdown",
   "metadata": {},
   "source": [
    "### K Nearest Neighbors"
   ]
  },
  {
   "cell_type": "code",
   "execution_count": 11,
   "metadata": {},
   "outputs": [
    {
     "name": "stdout",
     "output_type": "stream",
     "text": [
      "Confusion Matrix\n",
      "\n",
      "[[1730  124]\n",
      " [ 200   53]]\n",
      "\n",
      "Classification Report\n",
      "\n",
      "              precision    recall  f1-score   support\n",
      "\n",
      "           0       0.90      0.93      0.91      1854\n",
      "           1       0.30      0.21      0.25       253\n",
      "\n",
      "    accuracy                           0.85      2107\n",
      "   macro avg       0.60      0.57      0.58      2107\n",
      "weighted avg       0.82      0.85      0.83      2107\n",
      "\n"
     ]
    }
   ],
   "source": [
    "from sklearn.neighbors import KNeighborsClassifier\n",
    "knn = KNeighborsClassifier(weights= 'distance', \n",
    "                           n_neighbors= 2)\n",
    "knn_pred = report(knn)"
   ]
  },
  {
   "cell_type": "markdown",
   "metadata": {},
   "source": [
    "### Naive Bayes"
   ]
  },
  {
   "cell_type": "code",
   "execution_count": 12,
   "metadata": {
    "scrolled": true
   },
   "outputs": [
    {
     "name": "stdout",
     "output_type": "stream",
     "text": [
      "Confusion Matrix\n",
      "\n",
      "[[1460  394]\n",
      " [ 107  146]]\n",
      "\n",
      "Classification Report\n",
      "\n",
      "              precision    recall  f1-score   support\n",
      "\n",
      "           0       0.93      0.79      0.85      1854\n",
      "           1       0.27      0.58      0.37       253\n",
      "\n",
      "    accuracy                           0.76      2107\n",
      "   macro avg       0.60      0.68      0.61      2107\n",
      "weighted avg       0.85      0.76      0.80      2107\n",
      "\n"
     ]
    }
   ],
   "source": [
    "from sklearn.naive_bayes import BernoulliNB\n",
    "nb = BernoulliNB()\n",
    "nb_pred = report(nb)"
   ]
  },
  {
   "cell_type": "markdown",
   "metadata": {},
   "source": [
    "### Decision Tree"
   ]
  },
  {
   "cell_type": "code",
   "execution_count": 13,
   "metadata": {
    "scrolled": true
   },
   "outputs": [
    {
     "name": "stdout",
     "output_type": "stream",
     "text": [
      "Confusion Matrix\n",
      "\n",
      "[[1642  212]\n",
      " [ 157   96]]\n",
      "\n",
      "Classification Report\n",
      "\n",
      "              precision    recall  f1-score   support\n",
      "\n",
      "           0       0.91      0.89      0.90      1854\n",
      "           1       0.31      0.38      0.34       253\n",
      "\n",
      "    accuracy                           0.82      2107\n",
      "   macro avg       0.61      0.63      0.62      2107\n",
      "weighted avg       0.84      0.82      0.83      2107\n",
      "\n"
     ]
    }
   ],
   "source": [
    "tree = DecisionTreeClassifier()\n",
    "tree_pred = report(tree)"
   ]
  },
  {
   "cell_type": "code",
   "execution_count": 14,
   "metadata": {},
   "outputs": [
    {
     "name": "stdout",
     "output_type": "stream",
     "text": [
      "Confusion Matrix\n",
      "\n",
      "[[1438  416]\n",
      " [  99  154]]\n",
      "\n",
      "Classification Report\n",
      "\n",
      "              precision    recall  f1-score   support\n",
      "\n",
      "           0       0.94      0.78      0.85      1854\n",
      "           1       0.27      0.61      0.37       253\n",
      "\n",
      "    accuracy                           0.76      2107\n",
      "   macro avg       0.60      0.69      0.61      2107\n",
      "weighted avg       0.86      0.76      0.79      2107\n",
      "\n"
     ]
    }
   ],
   "source": [
    "params = {'criterion':['gini', 'entropy'], \n",
    "          'splitter':['best', 'random'], \n",
    "          'max_depth':[10, 50, 100], \n",
    "          'min_samples_split':[2, 10, 20], \n",
    "          'class_weight':[None, 'balanced']}\n",
    "gs_tree= GridSearchCV(DecisionTreeClassifier(), params, cv=3, \n",
    "                      scoring= 'recall')\n",
    "gs_tree_pred = report(gs_tree)"
   ]
  },
  {
   "cell_type": "markdown",
   "metadata": {},
   "source": [
    "### Bagging Classifier"
   ]
  },
  {
   "cell_type": "code",
   "execution_count": 15,
   "metadata": {},
   "outputs": [
    {
     "name": "stdout",
     "output_type": "stream",
     "text": [
      "Confusion Matrix\n",
      "\n",
      "[[1501  353]\n",
      " [  96  157]]\n",
      "\n",
      "Classification Report\n",
      "\n",
      "              precision    recall  f1-score   support\n",
      "\n",
      "           0       0.94      0.81      0.87      1854\n",
      "           1       0.31      0.62      0.41       253\n",
      "\n",
      "    accuracy                           0.79      2107\n",
      "   macro avg       0.62      0.72      0.64      2107\n",
      "weighted avg       0.86      0.79      0.81      2107\n",
      "\n"
     ]
    }
   ],
   "source": [
    "tree = DecisionTreeClassifier(class_weight= 'balanced', \n",
    "                              max_depth= 2)\n",
    "tree_bag = (BaggingClassifier(tree))\n",
    "tree_bag_pred = report(tree_bag)"
   ]
  },
  {
   "cell_type": "code",
   "execution_count": 16,
   "metadata": {},
   "outputs": [
    {
     "name": "stdout",
     "output_type": "stream",
     "text": [
      "Confusion Matrix\n",
      "\n",
      "[[1501  353]\n",
      " [  96  157]]\n",
      "\n",
      "Classification Report\n",
      "\n",
      "              precision    recall  f1-score   support\n",
      "\n",
      "           0       0.94      0.81      0.87      1854\n",
      "           1       0.31      0.62      0.41       253\n",
      "\n",
      "    accuracy                           0.79      2107\n",
      "   macro avg       0.62      0.72      0.64      2107\n",
      "weighted avg       0.86      0.79      0.81      2107\n",
      "\n"
     ]
    }
   ],
   "source": [
    "params = {'n_estimators':[10, 100], \n",
    "          'max_features':[1.0, .9]}\n",
    "gs_tree_bag= GridSearchCV(tree_bag, params, cv=3, \n",
    "                      scoring= 'recall')\n",
    "gs_tree_bag_pred = report(gs_tree_bag)"
   ]
  },
  {
   "cell_type": "markdown",
   "metadata": {},
   "source": [
    "### AdaBoost"
   ]
  },
  {
   "cell_type": "code",
   "execution_count": 17,
   "metadata": {},
   "outputs": [
    {
     "name": "stdout",
     "output_type": "stream",
     "text": [
      "Confusion Matrix\n",
      "\n",
      "[[1824   30]\n",
      " [ 190   63]]\n",
      "\n",
      "Classification Report\n",
      "\n",
      "              precision    recall  f1-score   support\n",
      "\n",
      "           0       0.91      0.98      0.94      1854\n",
      "           1       0.68      0.25      0.36       253\n",
      "\n",
      "    accuracy                           0.90      2107\n",
      "   macro avg       0.79      0.62      0.65      2107\n",
      "weighted avg       0.88      0.90      0.87      2107\n",
      "\n"
     ]
    }
   ],
   "source": [
    "ada = AdaBoostClassifier()\n",
    "ada_tree_pred = report(ada)"
   ]
  },
  {
   "cell_type": "code",
   "execution_count": 18,
   "metadata": {
    "scrolled": true
   },
   "outputs": [
    {
     "name": "stdout",
     "output_type": "stream",
     "text": [
      "Confusion Matrix\n",
      "\n",
      "[[1419  435]\n",
      " [  79  174]]\n",
      "\n",
      "Classification Report\n",
      "\n",
      "              precision    recall  f1-score   support\n",
      "\n",
      "           0       0.95      0.77      0.85      1854\n",
      "           1       0.29      0.69      0.40       253\n",
      "\n",
      "    accuracy                           0.76      2107\n",
      "   macro avg       0.62      0.73      0.63      2107\n",
      "weighted avg       0.87      0.76      0.79      2107\n",
      "\n"
     ]
    }
   ],
   "source": [
    "ada = AdaBoostClassifier(logreg)\n",
    "ada_log_pred = report(ada)"
   ]
  },
  {
   "cell_type": "markdown",
   "metadata": {},
   "source": [
    "### Random Forest"
   ]
  },
  {
   "cell_type": "code",
   "execution_count": 19,
   "metadata": {
    "scrolled": true
   },
   "outputs": [
    {
     "name": "stdout",
     "output_type": "stream",
     "text": [
      "Confusion Matrix\n",
      "\n",
      "[[1849    5]\n",
      " [ 241   12]]\n",
      "\n",
      "Classification Report\n",
      "\n",
      "              precision    recall  f1-score   support\n",
      "\n",
      "           0       0.88      1.00      0.94      1854\n",
      "           1       0.71      0.05      0.09       253\n",
      "\n",
      "    accuracy                           0.88      2107\n",
      "   macro avg       0.80      0.52      0.51      2107\n",
      "weighted avg       0.86      0.88      0.84      2107\n",
      "\n"
     ]
    }
   ],
   "source": [
    "rand_forest = RandomForestClassifier(class_weight='balanced', \n",
    "                                     n_estimators= 100)\n",
    "rand_forest_pred = report(rand_forest)"
   ]
  },
  {
   "cell_type": "markdown",
   "metadata": {},
   "source": [
    "### Custom Ensemble\n",
    "I'll attempt to improve recall of the 'at-risk' class of students by taking the consensus of the three highest performing models by their ability to recall 'at-risk' students."
   ]
  },
  {
   "cell_type": "code",
   "execution_count": 31,
   "metadata": {},
   "outputs": [
    {
     "name": "stdout",
     "output_type": "stream",
     "text": [
      "[[1422  432]\n",
      " [  79  174]]\n",
      "              precision    recall  f1-score   support\n",
      "\n",
      "           0       0.95      0.77      0.85      1854\n",
      "           1       0.29      0.69      0.41       253\n",
      "\n",
      "    accuracy                           0.76      2107\n",
      "   macro avg       0.62      0.73      0.63      2107\n",
      "weighted avg       0.87      0.76      0.79      2107\n",
      "\n"
     ]
    }
   ],
   "source": [
    "preds = []\n",
    "for i in range(0, len(log_pred)):\n",
    "    preds.append(statistics.mode([log_pred[i], \n",
    "                                 ada_log_pred[i], \n",
    "                                  nb_pred[i]]))\n",
    "print(confusion_matrix(y_test, preds))\n",
    "print(classification_report(y_test, preds))"
   ]
  },
  {
   "cell_type": "markdown",
   "metadata": {},
   "source": [
    "### Analysis\n",
    "Because the goal of this tool would be to identify the students at risk of dropping out, while simaltaneously saving resources to be shared by all students, the models ability to recall dropouts is the primary concern. To that end, when adjusting the confidence level required by the model to classify a student, I found that we could improve recall to 81% by lowering the required confidence to .4"
   ]
  },
  {
   "cell_type": "code",
   "execution_count": 32,
   "metadata": {
    "scrolled": true
   },
   "outputs": [
    {
     "name": "stdout",
     "output_type": "stream",
     "text": [
      "[[6376 2902]\n",
      " [ 239 1015]]\n",
      "              precision    recall  f1-score   support\n",
      "\n",
      "           0       0.96      0.69      0.80      9278\n",
      "           1       0.26      0.81      0.39      1254\n",
      "\n",
      "    accuracy                           0.70     10532\n",
      "   macro avg       0.61      0.75      0.60     10532\n",
      "weighted avg       0.88      0.70      0.75     10532\n",
      "\n"
     ]
    }
   ],
   "source": [
    "probs = logreg.predict_proba(X)\n",
    "y_pred = []\n",
    "for prob in probs:\n",
    "    if prob[1]> .4:\n",
    "        y_pred.append(1)\n",
    "    else:\n",
    "        y_pred.append(0)\n",
    "print(confusion_matrix(drop_target, y_pred))\n",
    "print(classification_report(drop_target, y_pred))"
   ]
  },
  {
   "cell_type": "markdown",
   "metadata": {},
   "source": [
    "It appears, based on experimentation with a similar technique using the adaboost classifier, that even 49% confidence in a classification improves the recall score for dropouts significantly. However, this comes with a drastic reduction in recall for predicting students that stayed in school.   "
   ]
  },
  {
   "cell_type": "code",
   "execution_count": 33,
   "metadata": {},
   "outputs": [
    {
     "name": "stdout",
     "output_type": "stream",
     "text": [
      "[[1596 7682]\n",
      " [  24 1230]]\n",
      "              precision    recall  f1-score   support\n",
      "\n",
      "           0       0.99      0.17      0.29      9278\n",
      "           1       0.14      0.98      0.24      1254\n",
      "\n",
      "    accuracy                           0.27     10532\n",
      "   macro avg       0.56      0.58      0.27     10532\n",
      "weighted avg       0.88      0.27      0.29     10532\n",
      "\n"
     ]
    }
   ],
   "source": [
    "probs = ada.predict_proba(X)\n",
    "y_pred = []\n",
    "for prob in probs:\n",
    "    if prob[1]> .49:\n",
    "        y_pred.append(1)\n",
    "    else:\n",
    "        y_pred.append(0)\n",
    "print(confusion_matrix(drop_target, y_pred))\n",
    "print(classification_report(drop_target, y_pred))"
   ]
  },
  {
   "cell_type": "markdown",
   "metadata": {},
   "source": [
    "## Conclusion\n",
    "The adaboost classifier used in conjuction with logistic regression modeling as its weak learner model is most successful at identifying the students that will eventually drop out of High School. "
   ]
  }
 ],
 "metadata": {
  "kernelspec": {
   "display_name": "learn-env",
   "language": "python",
   "name": "learn-env"
  },
  "language_info": {
   "codemirror_mode": {
    "name": "ipython",
    "version": 3
   },
   "file_extension": ".py",
   "mimetype": "text/x-python",
   "name": "python",
   "nbconvert_exporter": "python",
   "pygments_lexer": "ipython3",
   "version": "3.7.4"
  }
 },
 "nbformat": 4,
 "nbformat_minor": 2
}
